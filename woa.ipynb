{
 "cells": [
  {
   "cell_type": "code",
   "execution_count": null,
   "id": "000cfb73-01e4-4f86-aa8c-d3286bfa4838",
   "metadata": {},
   "outputs": [],
   "source": []
  },
  {
   "cell_type": "code",
   "execution_count": 73,
   "id": "9b4e496f-847b-4e1e-9054-b0385cc69946",
   "metadata": {},
   "outputs": [
    {
     "name": "stdout",
     "output_type": "stream",
     "text": [
      "Best solution: [1. 1. 1. 1. 1. 1. 1. 1. 1. 1.]\n",
      "Selected features: ['age', 'gender', 'tot_bilirubin', 'direct_bilirubin', 'tot_proteins', 'albumin', 'ag_ratio', 'sgpt', 'sgot', 'alkphos']\n",
      "Accuracy: 0.7777777777777778\n"
     ]
    }
   ],
   "source": [
    "import numpy as np\n",
    "import pandas as pd\n",
    "import warnings\n",
    "warnings.filterwarnings(\"ignore\")\n",
    "\n",
    "class WOA_LiverDisease:\n",
    "    def __init__(self, max_iter=200, population_size=20, a=0.5, b=1):\n",
    "        self.max_iter = max_iter\n",
    "        self.population_size = population_size\n",
    "        self.a = a\n",
    "        self.b = b\n",
    "\n",
    "    def fit(self, data, labels):\n",
    "        self.data = data\n",
    "        self.labels = labels\n",
    "        # Initialize population with all features selected\n",
    "        self.population = np.ones((self.population_size, data.shape[1]))\n",
    "        \n",
    "        for epoch in range(self.max_iter):\n",
    "            # Update population\n",
    "            self.update_population()\n",
    "\n",
    "        # Select best solution\n",
    "        best_fitness = min(self.evaluate_fitness())\n",
    "        best_index = np.argmin(self.evaluate_fitness())\n",
    "        self.best_solution = self.population[best_index]\n",
    "        self.best_features = self.data.columns[self.best_solution.astype(bool)].tolist()\n",
    "\n",
    "    def update_population(self):\n",
    "        for i in range(self.population_size):\n",
    "            r = np.random.rand()\n",
    "            A = 2 * self.a * r - self.a\n",
    "            C = 2 * r\n",
    "            p = np.random.rand()\n",
    "\n",
    "            if p < 0.5:\n",
    "                if np.abs(A) < 1:\n",
    "                    self.population[i] = self.search_preys(A, C, i)\n",
    "                else:\n",
    "                    rand_leader_index = np.random.randint(0, self.population_size)\n",
    "                    rand_leader = self.population[rand_leader_index]\n",
    "                    self.population[i] = rand_leader + A * (rand_leader - self.population[i])\n",
    "            else:\n",
    "                distance_to_leader = np.abs(self.population[i] - self.population[0])\n",
    "                self.population[i] = distance_to_leader * np.exp(self.b * C) * np.cos(2 * np.pi * C) + self.population[0]\n",
    "\n",
    "    def evaluate_fitness(self):\n",
    "        fitness = []\n",
    "        for solution in self.population:\n",
    "            selected_features = self.data.columns[solution.astype(bool)].tolist()\n",
    "            # Here, you would apply your liver disease prediction model to evaluate the fitness of each solution\n",
    "            # For demonstration purposes, let's assume a simple fitness based on the difference between predicted and actual labels\n",
    "            # Random prediction for demonstration\n",
    "            predicted_labels = np.random.randint(0, 2, size=len(self.labels))  \n",
    "            fitness.append(np.abs(predicted_labels - self.labels).sum())\n",
    "        return fitness\n",
    "        \n",
    "\n",
    "    def search_preys(self, A, C, i):\n",
    "        # Ensure that the solution remains unchanged\n",
    "        return self.population[i]\n",
    "\n",
    "# Read dataset\n",
    "data = pd.read_csv('Indian_liver_patient.csv')\n",
    "\n",
    "# Assuming the last column contains labels\n",
    "labels = data.is_patient.values\n",
    "\n",
    "# Dropping labels from features\n",
    "features = data.drop(data.columns[-1], axis=1)\n",
    "\n",
    "# Initialize and fit the model\n",
    "woa_liver_disease = WOA_LiverDisease()\n",
    "woa_liver_disease.fit(features, labels)\n",
    "\n",
    "# Get the best solution and selected features\n",
    "best_solution = woa_liver_disease.best_solution\n",
    "selected_features = woa_liver_disease.best_features\n",
    "print(\"Best solution:\", best_solution)\n",
    "print(\"Selected features:\", selected_features)\n",
    "print(\"Accuracy:\",accuracy)"
   ]
  },
  {
   "cell_type": "code",
   "execution_count": null,
   "id": "1c97f8b9-39f5-4114-9185-cfcc3c592b6b",
   "metadata": {},
   "outputs": [],
   "source": []
  },
  {
   "cell_type": "code",
   "execution_count": null,
   "id": "b2b3a6d4-0ed0-4e76-ab93-8109ca7bf4bb",
   "metadata": {},
   "outputs": [],
   "source": []
  },
  {
   "cell_type": "code",
   "execution_count": null,
   "id": "e6cd1c7f-1a9d-4a43-a648-63749297b64f",
   "metadata": {},
   "outputs": [],
   "source": []
  },
  {
   "cell_type": "code",
   "execution_count": null,
   "id": "b6a7378e-5c50-4984-8157-6ab4f8bf3be4",
   "metadata": {},
   "outputs": [],
   "source": []
  }
 ],
 "metadata": {
  "kernelspec": {
   "display_name": "Python 3 (ipykernel)",
   "language": "python",
   "name": "python3"
  },
  "language_info": {
   "codemirror_mode": {
    "name": "ipython",
    "version": 3
   },
   "file_extension": ".py",
   "mimetype": "text/x-python",
   "name": "python",
   "nbconvert_exporter": "python",
   "pygments_lexer": "ipython3",
   "version": "3.11.5"
  }
 },
 "nbformat": 4,
 "nbformat_minor": 5
}
